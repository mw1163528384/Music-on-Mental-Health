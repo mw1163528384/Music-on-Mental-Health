{
 "cells": [
  {
   "cell_type": "markdown",
   "id": "b5b437b6",
   "metadata": {},
   "source": [
    "### Step 1: Applying CTGAN"
   ]
  },
  {
   "cell_type": "code",
   "execution_count": 4,
   "id": "60c8c5cd",
   "metadata": {},
   "outputs": [],
   "source": [
    "import pandas as pd"
   ]
  },
  {
   "cell_type": "code",
   "execution_count": 9,
   "id": "32356993",
   "metadata": {},
   "outputs": [
    {
     "name": "stdout",
     "output_type": "stream",
     "text": [
      "Requirement already satisfied: ctgan in /Users/yangzy/opt/anaconda3/lib/python3.8/site-packages (0.10.0)\n",
      "Requirement already satisfied: tqdm<5,>=4.29 in /Users/yangzy/opt/anaconda3/lib/python3.8/site-packages (from ctgan) (4.59.0)\n",
      "Requirement already satisfied: rdt>=1.11.0 in /Users/yangzy/opt/anaconda3/lib/python3.8/site-packages (from ctgan) (1.12.0)\n",
      "Requirement already satisfied: numpy>=1.20.0 in /Users/yangzy/opt/anaconda3/lib/python3.8/site-packages (from ctgan) (1.24.3)\n",
      "Requirement already satisfied: pandas>=1.1.3 in /Users/yangzy/opt/anaconda3/lib/python3.8/site-packages (from ctgan) (1.2.4)\n",
      "Requirement already satisfied: torch>=1.8.0 in /Users/yangzy/opt/anaconda3/lib/python3.8/site-packages (from ctgan) (2.2.0)\n",
      "Requirement already satisfied: python-dateutil>=2.7.3 in /Users/yangzy/opt/anaconda3/lib/python3.8/site-packages (from pandas>=1.1.3->ctgan) (2.8.1)\n",
      "Requirement already satisfied: pytz>=2017.3 in /Users/yangzy/opt/anaconda3/lib/python3.8/site-packages (from pandas>=1.1.3->ctgan) (2021.1)\n",
      "Requirement already satisfied: Faker>=17 in /Users/yangzy/opt/anaconda3/lib/python3.8/site-packages (from rdt>=1.11.0->ctgan) (24.11.0)\n",
      "Requirement already satisfied: scipy>=1.5.4 in /Users/yangzy/opt/anaconda3/lib/python3.8/site-packages (from rdt>=1.11.0->ctgan) (1.10.1)\n",
      "Requirement already satisfied: scikit-learn>=0.24 in /Users/yangzy/opt/anaconda3/lib/python3.8/site-packages (from rdt>=1.11.0->ctgan) (0.24.2)\n",
      "Requirement already satisfied: filelock in /Users/yangzy/.local/lib/python3.8/site-packages (from torch>=1.8.0->ctgan) (3.8.0)\n",
      "Requirement already satisfied: typing-extensions>=4.8.0 in /Users/yangzy/opt/anaconda3/lib/python3.8/site-packages (from torch>=1.8.0->ctgan) (4.11.0)\n",
      "Requirement already satisfied: sympy in /Users/yangzy/opt/anaconda3/lib/python3.8/site-packages (from torch>=1.8.0->ctgan) (1.8)\n",
      "Requirement already satisfied: networkx in /Users/yangzy/opt/anaconda3/lib/python3.8/site-packages (from torch>=1.8.0->ctgan) (2.5)\n",
      "Requirement already satisfied: jinja2 in /Users/yangzy/opt/anaconda3/lib/python3.8/site-packages (from torch>=1.8.0->ctgan) (2.11.3)\n",
      "Requirement already satisfied: fsspec in /Users/yangzy/opt/anaconda3/lib/python3.8/site-packages (from torch>=1.8.0->ctgan) (2024.3.1)\n",
      "Requirement already satisfied: six>=1.5 in /Users/yangzy/opt/anaconda3/lib/python3.8/site-packages (from python-dateutil>=2.7.3->pandas>=1.1.3->ctgan) (1.15.0)\n",
      "Requirement already satisfied: joblib>=0.11 in /Users/yangzy/opt/anaconda3/lib/python3.8/site-packages (from scikit-learn>=0.24->rdt>=1.11.0->ctgan) (1.3.2)\n",
      "Requirement already satisfied: threadpoolctl>=2.0.0 in /Users/yangzy/opt/anaconda3/lib/python3.8/site-packages (from scikit-learn>=0.24->rdt>=1.11.0->ctgan) (2.1.0)\n",
      "Requirement already satisfied: MarkupSafe>=0.23 in /Users/yangzy/opt/anaconda3/lib/python3.8/site-packages (from jinja2->torch>=1.8.0->ctgan) (1.1.1)\n",
      "Requirement already satisfied: decorator>=4.3.0 in /Users/yangzy/opt/anaconda3/lib/python3.8/site-packages (from networkx->torch>=1.8.0->ctgan) (5.0.6)\n",
      "Requirement already satisfied: mpmath>=0.19 in /Users/yangzy/opt/anaconda3/lib/python3.8/site-packages (from sympy->torch>=1.8.0->ctgan) (1.2.1)\n",
      "Note: you may need to restart the kernel to use updated packages.\n"
     ]
    }
   ],
   "source": [
    "%pip install ctgan"
   ]
  },
  {
   "cell_type": "code",
   "execution_count": 10,
   "id": "2e5d7a9b",
   "metadata": {},
   "outputs": [],
   "source": [
    "# Import Data\n",
    "df_data_before = pd.read_csv('../Data/data_cleaned.csv')"
   ]
  },
  {
   "cell_type": "code",
   "execution_count": 11,
   "id": "cfbc9089",
   "metadata": {},
   "outputs": [],
   "source": [
    "# from ctgan import CTGAN\n",
    "\n",
    "# # Initialize the CTGAN model\n",
    "# ctgan = CTGAN(epochs=200)\n",
    "\n",
    "# # Fit the model on your data\n",
    "# # Assuming 'data' is your DataFrame\n",
    "# ctgan.fit(df_data_before) "
   ]
  },
  {
   "cell_type": "code",
   "execution_count": 12,
   "id": "72d804ea",
   "metadata": {},
   "outputs": [],
   "source": [
    "from ctgan import CTGAN\n",
    "\n",
    "# Initialize the CTGAN model\n",
    "ctgan = CTGAN(epochs=200)\n",
    "\n",
    "# List the names of the columns that are categorical in your dataset\n",
    "categorical_columns = [\n",
    "    'Primary streaming service',  # Options like Spotify, Apple Music, etc.\n",
    "    'Hours per day',\n",
    "    'While working',              # Yes/No or similar binary option\n",
    "    'Instrumentalist',            # Yes/No or similar binary option\n",
    "    'Composer',                   # Yes/No or similar binary option\n",
    "    'Fav genre',                  # Genres like Classical, Jazz, etc.\n",
    "    'Exploratory',                # Yes/No or similar binary option\n",
    "    'Foreign languages',          # Yes/No or similar binary option\n",
    "    'Frequency [Classical]',      # Likely categorical frequencies like Often, Rarely, etc.\n",
    "    'Frequency [Country]',        # -- do --\n",
    "    'Frequency [EDM]',            # -- do --\n",
    "    'Frequency [Folk]',           # -- do --\n",
    "    'Frequency [Gospel]',         # -- do --\n",
    "    'Frequency [Hip hop]',        # -- do --\n",
    "    'Frequency [Jazz]',           # -- do --\n",
    "    'Frequency [K pop]',          # -- do --\n",
    "    'Frequency [Latin]',          # -- do --\n",
    "    'Frequency [Lofi]',           # -- do --\n",
    "    'Frequency [Metal]',          # -- do --\n",
    "    'Frequency [Pop]',            # -- do --\n",
    "    'Frequency [R&B]',            # -- do --\n",
    "    'Frequency [Rap]',            # -- do --\n",
    "    'Frequency [Rock]',           # -- do --\n",
    "    'Frequency [Video game music]',# -- do --\n",
    "    'Anxiety',\n",
    "    'Depression',\n",
    "    'Insomnia',\n",
    "    'OCD',\n",
    "    'Music effects'               # Effects like Improve, No effect, etc.\n",
    "]\n",
    "\n",
    "\n",
    "# Fit the model on your data\n",
    "# Assuming 'data' is your DataFrame\n",
    "ctgan.fit(df_data_before, categorical_columns) "
   ]
  },
  {
   "cell_type": "code",
   "execution_count": 13,
   "id": "cd43a135",
   "metadata": {},
   "outputs": [],
   "source": [
    "# Create synthetic data\n",
    "df_data_after = ctgan.sample(500)"
   ]
  },
  {
   "cell_type": "code",
   "execution_count": 14,
   "id": "1cdc446e",
   "metadata": {},
   "outputs": [],
   "source": [
    "df_data_after['Age'] = df_data_after['Age'].round().astype(int)\n",
    "# df_data_after['Hours per day'] = df_data_after['Hours per day'].round().astype(int)\n",
    "df_data_after['BPM'] = df_data_after['BPM'].round().astype(int)"
   ]
  },
  {
   "cell_type": "code",
   "execution_count": 15,
   "id": "398b032c",
   "metadata": {},
   "outputs": [],
   "source": [
    "# Combine original data with synthetic data\n",
    "expanded_data = pd.concat([df_data_before, df_data_after], ignore_index=True)\n",
    "\n",
    "# # Optionally, save the expanded dataset to a CSV file\n",
    "# expanded_data.to_csv('../Data/data_cleaned_expanded.csv', index=False)"
   ]
  },
  {
   "cell_type": "markdown",
   "id": "bc36c1fc",
   "metadata": {},
   "source": [
    "### Step 2: Process Data"
   ]
  },
  {
   "cell_type": "code",
   "execution_count": 16,
   "id": "1669ba98",
   "metadata": {},
   "outputs": [],
   "source": [
    "df_process = expanded_data.copy()"
   ]
  },
  {
   "cell_type": "code",
   "execution_count": 17,
   "id": "32bf50e4",
   "metadata": {},
   "outputs": [
    {
     "data": {
      "text/html": [
       "<div>\n",
       "<style scoped>\n",
       "    .dataframe tbody tr th:only-of-type {\n",
       "        vertical-align: middle;\n",
       "    }\n",
       "\n",
       "    .dataframe tbody tr th {\n",
       "        vertical-align: top;\n",
       "    }\n",
       "\n",
       "    .dataframe thead th {\n",
       "        text-align: right;\n",
       "    }\n",
       "</style>\n",
       "<table border=\"1\" class=\"dataframe\">\n",
       "  <thead>\n",
       "    <tr style=\"text-align: right;\">\n",
       "      <th></th>\n",
       "      <th>Age</th>\n",
       "      <th>Hours per day</th>\n",
       "      <th>BPM</th>\n",
       "      <th>Anxiety</th>\n",
       "      <th>Depression</th>\n",
       "      <th>Insomnia</th>\n",
       "      <th>OCD</th>\n",
       "    </tr>\n",
       "  </thead>\n",
       "  <tbody>\n",
       "    <tr>\n",
       "      <th>count</th>\n",
       "      <td>1111.000000</td>\n",
       "      <td>1111.000000</td>\n",
       "      <td>1111.000000</td>\n",
       "      <td>1111.000000</td>\n",
       "      <td>1111.000000</td>\n",
       "      <td>1111.000000</td>\n",
       "      <td>1111.000000</td>\n",
       "    </tr>\n",
       "    <tr>\n",
       "      <th>mean</th>\n",
       "      <td>21.856886</td>\n",
       "      <td>3.526868</td>\n",
       "      <td>108.648065</td>\n",
       "      <td>5.742124</td>\n",
       "      <td>5.001800</td>\n",
       "      <td>3.776778</td>\n",
       "      <td>2.738974</td>\n",
       "    </tr>\n",
       "    <tr>\n",
       "      <th>std</th>\n",
       "      <td>11.042353</td>\n",
       "      <td>2.898416</td>\n",
       "      <td>36.725098</td>\n",
       "      <td>2.802889</td>\n",
       "      <td>2.991429</td>\n",
       "      <td>3.077913</td>\n",
       "      <td>2.876090</td>\n",
       "    </tr>\n",
       "    <tr>\n",
       "      <th>min</th>\n",
       "      <td>-4.000000</td>\n",
       "      <td>0.000000</td>\n",
       "      <td>4.000000</td>\n",
       "      <td>0.000000</td>\n",
       "      <td>0.000000</td>\n",
       "      <td>0.000000</td>\n",
       "      <td>0.000000</td>\n",
       "    </tr>\n",
       "    <tr>\n",
       "      <th>25%</th>\n",
       "      <td>15.000000</td>\n",
       "      <td>2.000000</td>\n",
       "      <td>80.500000</td>\n",
       "      <td>3.000000</td>\n",
       "      <td>2.000000</td>\n",
       "      <td>1.000000</td>\n",
       "      <td>0.000000</td>\n",
       "    </tr>\n",
       "    <tr>\n",
       "      <th>50%</th>\n",
       "      <td>19.000000</td>\n",
       "      <td>3.000000</td>\n",
       "      <td>107.000000</td>\n",
       "      <td>6.000000</td>\n",
       "      <td>5.000000</td>\n",
       "      <td>3.000000</td>\n",
       "      <td>2.000000</td>\n",
       "    </tr>\n",
       "    <tr>\n",
       "      <th>75%</th>\n",
       "      <td>25.000000</td>\n",
       "      <td>5.000000</td>\n",
       "      <td>132.000000</td>\n",
       "      <td>8.000000</td>\n",
       "      <td>7.000000</td>\n",
       "      <td>6.000000</td>\n",
       "      <td>5.000000</td>\n",
       "    </tr>\n",
       "    <tr>\n",
       "      <th>max</th>\n",
       "      <td>89.000000</td>\n",
       "      <td>24.000000</td>\n",
       "      <td>225.000000</td>\n",
       "      <td>10.000000</td>\n",
       "      <td>10.000000</td>\n",
       "      <td>10.000000</td>\n",
       "      <td>10.000000</td>\n",
       "    </tr>\n",
       "  </tbody>\n",
       "</table>\n",
       "</div>"
      ],
      "text/plain": [
       "               Age  Hours per day          BPM      Anxiety   Depression  \\\n",
       "count  1111.000000    1111.000000  1111.000000  1111.000000  1111.000000   \n",
       "mean     21.856886       3.526868   108.648065     5.742124     5.001800   \n",
       "std      11.042353       2.898416    36.725098     2.802889     2.991429   \n",
       "min      -4.000000       0.000000     4.000000     0.000000     0.000000   \n",
       "25%      15.000000       2.000000    80.500000     3.000000     2.000000   \n",
       "50%      19.000000       3.000000   107.000000     6.000000     5.000000   \n",
       "75%      25.000000       5.000000   132.000000     8.000000     7.000000   \n",
       "max      89.000000      24.000000   225.000000    10.000000    10.000000   \n",
       "\n",
       "          Insomnia          OCD  \n",
       "count  1111.000000  1111.000000  \n",
       "mean      3.776778     2.738974  \n",
       "std       3.077913     2.876090  \n",
       "min       0.000000     0.000000  \n",
       "25%       1.000000     0.000000  \n",
       "50%       3.000000     2.000000  \n",
       "75%       6.000000     5.000000  \n",
       "max      10.000000    10.000000  "
      ]
     },
     "execution_count": 17,
     "metadata": {},
     "output_type": "execute_result"
    }
   ],
   "source": [
    "df_process.describe()"
   ]
  },
  {
   "cell_type": "code",
   "execution_count": 18,
   "id": "02b06432",
   "metadata": {},
   "outputs": [],
   "source": [
    "import pandas as pd\n",
    "import seaborn as sns\n",
    "import matplotlib.pyplot as plt\n",
    "import numpy as np\n",
    "\n",
    "from sklearn.preprocessing import StandardScaler, MinMaxScaler, LabelEncoder"
   ]
  },
  {
   "cell_type": "code",
   "execution_count": 19,
   "id": "7193e98e",
   "metadata": {},
   "outputs": [],
   "source": [
    "# Normalize numerical data through Standard Scaling\n",
    "stanard_scaler = StandardScaler()\n",
    "\n",
    "numeric_columns = ['Age', 'Hours per day', 'BPM']\n",
    "df_process[numeric_columns] = stanard_scaler.fit_transform(df_process[numeric_columns])"
   ]
  },
  {
   "cell_type": "code",
   "execution_count": 20,
   "id": "2d88bfac",
   "metadata": {},
   "outputs": [],
   "source": [
    "# Normalize numerical data through Min-Max Scaling\n",
    "min_max_scaler = MinMaxScaler()\n",
    "\n",
    "mental_columns = ['Anxiety', 'Depression', 'Insomnia', 'OCD']\n",
    "df_process[mental_columns] = min_max_scaler.fit_transform(df_process[mental_columns])"
   ]
  },
  {
   "cell_type": "code",
   "execution_count": 21,
   "id": "d14ee21d",
   "metadata": {},
   "outputs": [],
   "source": [
    "# Encode categories into numerical value from 0-3\n",
    "mapping = {'Never': 0, 'Rarely': 1, 'Sometimes': 2, 'Very frequently': 3}\n",
    "genre_freq_columns = ['Frequency [Classical]', 'Frequency [Country]', 'Frequency [EDM]', 'Frequency [Folk]', 'Frequency [Gospel]', 'Frequency [Hip hop]', 'Frequency [Jazz]', 'Frequency [K pop]', 'Frequency [Latin]', 'Frequency [Lofi]', 'Frequency [Metal]', 'Frequency [Pop]', 'Frequency [R&B]', 'Frequency [Rap]', 'Frequency [Rock]', 'Frequency [Video game music]']\n",
    "\n",
    "for column in genre_freq_columns:\n",
    "    df_process[column] = df_process[column].replace(mapping)"
   ]
  },
  {
   "cell_type": "code",
   "execution_count": 22,
   "id": "ae600792",
   "metadata": {},
   "outputs": [],
   "source": [
    "# Encode binary categorical data\n",
    "mapping = {'No': 0, 'Yes': 1}\n",
    "binary_categorical_columns = ['While working', 'Instrumentalist', 'Composer', 'Exploratory', 'Foreign languages']\n",
    "\n",
    "for column in binary_categorical_columns:\n",
    "    df_process[column] = df_process[column].replace(mapping)"
   ]
  },
  {
   "cell_type": "code",
   "execution_count": 23,
   "id": "2a5968b4",
   "metadata": {},
   "outputs": [],
   "source": [
    "# One-hot encoding Categorical data\n",
    "df_encodedCTGAN = pd.get_dummies(df_process, drop_first=False, dtype='int64')"
   ]
  },
  {
   "cell_type": "code",
   "execution_count": 24,
   "id": "36b1973d",
   "metadata": {},
   "outputs": [],
   "source": [
    "# # Saved the pre-processed code\n",
    "# df_encodedCTGAN.to_pickle('df_encodedCTGAN.pkl')"
   ]
  },
  {
   "cell_type": "code",
   "execution_count": 92,
   "id": "1654efc5",
   "metadata": {},
   "outputs": [],
   "source": [
    "# df_encodedCTGAN.to_csv('../Data/encodedCTGAN.csv', index=False)"
   ]
  },
  {
   "cell_type": "code",
   "execution_count": 25,
   "id": "79da9b96",
   "metadata": {},
   "outputs": [
    {
     "name": "stdout",
     "output_type": "stream",
     "text": [
      "Number of rows: 1111\n"
     ]
    }
   ],
   "source": [
    "print(\"Number of rows:\", df_encodedCTGAN.shape[0])"
   ]
  }
 ],
 "metadata": {
  "kernelspec": {
   "display_name": "Python 3",
   "language": "python",
   "name": "python3"
  },
  "language_info": {
   "codemirror_mode": {
    "name": "ipython",
    "version": 3
   },
   "file_extension": ".py",
   "mimetype": "text/x-python",
   "name": "python",
   "nbconvert_exporter": "python",
   "pygments_lexer": "ipython3",
   "version": "3.8.8"
  }
 },
 "nbformat": 4,
 "nbformat_minor": 5
}
